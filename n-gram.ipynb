{
 "cells": [
  {
   "cell_type": "code",
   "execution_count": 1,
   "id": "f105112a-4a6e-4563-a1ab-46e7300f735c",
   "metadata": {},
   "outputs": [],
   "source": [
    "x= \"i am ravinder kumar i am at pondichery university i am good student and i love to stud new things as a good student\""
   ]
  },
  {
   "cell_type": "code",
   "execution_count": 2,
   "id": "6f14ac38-06ba-4a52-ac04-8d677ed3cb5e",
   "metadata": {},
   "outputs": [],
   "source": [
    "from nltk.tokenize import word_tokenize"
   ]
  },
  {
   "cell_type": "code",
   "execution_count": 3,
   "id": "71f80966-84cf-4a9f-a16e-97b10ed8c409",
   "metadata": {},
   "outputs": [],
   "source": [
    "w = word_tokenize(x)"
   ]
  },
  {
   "cell_type": "code",
   "execution_count": 4,
   "id": "10155f62-9679-4f16-a917-a6d9b6d6f2fa",
   "metadata": {},
   "outputs": [
    {
     "data": {
      "text/plain": [
       "['i',\n",
       " 'am',\n",
       " 'ravinder',\n",
       " 'kumar',\n",
       " 'i',\n",
       " 'am',\n",
       " 'at',\n",
       " 'pondichery',\n",
       " 'university',\n",
       " 'i',\n",
       " 'am',\n",
       " 'good',\n",
       " 'student',\n",
       " 'and',\n",
       " 'i',\n",
       " 'love',\n",
       " 'to',\n",
       " 'stud',\n",
       " 'new',\n",
       " 'things',\n",
       " 'as',\n",
       " 'a',\n",
       " 'good',\n",
       " 'student']"
      ]
     },
     "execution_count": 4,
     "metadata": {},
     "output_type": "execute_result"
    }
   ],
   "source": [
    "w"
   ]
  },
  {
   "cell_type": "code",
   "execution_count": 5,
   "id": "1c43ff76-e594-4933-9170-ebdf9f3205e9",
   "metadata": {},
   "outputs": [],
   "source": [
    "from nltk.collocations import BigramCollocationFinder, TrigramCollocationFinder, ngrams"
   ]
  },
  {
   "cell_type": "code",
   "execution_count": 6,
   "id": "91e9dd71-2b3a-4008-bcdf-6eac06046905",
   "metadata": {},
   "outputs": [],
   "source": [
    "b= BigramCollocationFinder.from_words(w)"
   ]
  },
  {
   "cell_type": "code",
   "execution_count": 8,
   "id": "f7a2ff77-5f92-4876-a7db-27a356e2f076",
   "metadata": {},
   "outputs": [
    {
     "data": {
      "text/plain": [
       "FreqDist({('i', 'am'): 3, ('good', 'student'): 2, ('am', 'ravinder'): 1, ('ravinder', 'kumar'): 1, ('kumar', 'i'): 1, ('am', 'at'): 1, ('at', 'pondichery'): 1, ('pondichery', 'university'): 1, ('university', 'i'): 1, ('am', 'good'): 1, ...})"
      ]
     },
     "execution_count": 8,
     "metadata": {},
     "output_type": "execute_result"
    }
   ],
   "source": [
    "#check thheh frequency of words occouring togeter fd: frequenc distribution\n",
    "b.ngram_fd"
   ]
  },
  {
   "cell_type": "code",
   "execution_count": 10,
   "id": "3fe847be-5779-4358-9748-237414cc9b13",
   "metadata": {},
   "outputs": [],
   "source": [
    "# call trigram\n",
    "t=TrigramCollocationFinder.from_words(w)"
   ]
  },
  {
   "cell_type": "code",
   "execution_count": 11,
   "id": "5ea1056a-10d8-48db-8a40-3f60ff92dca5",
   "metadata": {},
   "outputs": [
    {
     "data": {
      "text/plain": [
       "FreqDist({('i', 'am', 'ravinder'): 1, ('am', 'ravinder', 'kumar'): 1, ('ravinder', 'kumar', 'i'): 1, ('kumar', 'i', 'am'): 1, ('i', 'am', 'at'): 1, ('am', 'at', 'pondichery'): 1, ('at', 'pondichery', 'university'): 1, ('pondichery', 'university', 'i'): 1, ('university', 'i', 'am'): 1, ('i', 'am', 'good'): 1, ...})"
      ]
     },
     "execution_count": 11,
     "metadata": {},
     "output_type": "execute_result"
    }
   ],
   "source": [
    "t.ngram_fd"
   ]
  },
  {
   "cell_type": "code",
   "execution_count": 13,
   "id": "45ac41aa-7a4c-45f9-ae9d-98ac3eb3c503",
   "metadata": {},
   "outputs": [
    {
     "name": "stdout",
     "output_type": "stream",
     "text": [
      "('i',)\n",
      "('am',)\n",
      "('ravinder',)\n",
      "('kumar',)\n",
      "('i',)\n",
      "('am',)\n",
      "('at',)\n",
      "('pondichery',)\n",
      "('university',)\n",
      "('i',)\n",
      "('am',)\n",
      "('good',)\n",
      "('student',)\n",
      "('and',)\n",
      "('i',)\n",
      "('love',)\n",
      "('to',)\n",
      "('stud',)\n",
      "('new',)\n",
      "('things',)\n",
      "('as',)\n",
      "('a',)\n",
      "('good',)\n",
      "('student',)\n"
     ]
    }
   ],
   "source": [
    "# for n-gram\n",
    "n= ngrams(w, 1) # 1 is for which gram 1,2,3,4,....\n",
    "for i in n:\n",
    "    print (i)\n",
    "# n.ngram_fd   ese shoe nhi krte hain esko"
   ]
  },
  {
   "cell_type": "code",
   "execution_count": null,
   "id": "71275e0c-c665-417f-9908-3c85d2b465ae",
   "metadata": {},
   "outputs": [],
   "source": []
  }
 ],
 "metadata": {
  "kernelspec": {
   "display_name": "Python 3 (ipykernel)",
   "language": "python",
   "name": "python3"
  },
  "language_info": {
   "codemirror_mode": {
    "name": "ipython",
    "version": 3
   },
   "file_extension": ".py",
   "mimetype": "text/x-python",
   "name": "python",
   "nbconvert_exporter": "python",
   "pygments_lexer": "ipython3",
   "version": "3.12.1"
  }
 },
 "nbformat": 4,
 "nbformat_minor": 5
}
