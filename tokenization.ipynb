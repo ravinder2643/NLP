{
 "cells": [
  {
   "cell_type": "code",
   "execution_count": 1,
   "id": "aeaad6b6-4e0b-45f7-ba2f-3b80517711a5",
   "metadata": {},
   "outputs": [
    {
     "name": "stdout",
     "output_type": "stream",
     "text": [
      "Collecting nltk"
     ]
    },
    {
     "name": "stderr",
     "output_type": "stream",
     "text": [
      "\n",
      "[notice] A new release of pip is available: 23.3.2 -> 24.0\n",
      "[notice] To update, run: python.exe -m pip install --upgrade pip\n"
     ]
    },
    {
     "name": "stdout",
     "output_type": "stream",
     "text": [
      "\n",
      "  Downloading nltk-3.8.1-py3-none-any.whl.metadata (2.8 kB)\n",
      "Requirement already satisfied: click in c:\\users\\ravinder kumar\\appdata\\local\\programs\\python\\python312\\lib\\site-packages (from nltk) (8.1.7)\n",
      "Requirement already satisfied: joblib in c:\\users\\ravinder kumar\\appdata\\local\\programs\\python\\python312\\lib\\site-packages (from nltk) (1.3.2)\n",
      "Collecting regex>=2021.8.3 (from nltk)\n",
      "  Using cached regex-2023.12.25-cp312-cp312-win_amd64.whl.metadata (41 kB)\n",
      "Collecting tqdm (from nltk)\n",
      "  Downloading tqdm-4.66.2-py3-none-any.whl.metadata (57 kB)\n",
      "     ---------------------------------------- 0.0/57.6 kB ? eta -:--:--\n",
      "     ------------- ------------------------ 20.5/57.6 kB 640.0 kB/s eta 0:00:01\n",
      "     ------------- ------------------------ 20.5/57.6 kB 640.0 kB/s eta 0:00:01\n",
      "     ------------- ------------------------ 20.5/57.6 kB 640.0 kB/s eta 0:00:01\n",
      "     ------------- ------------------------ 20.5/57.6 kB 640.0 kB/s eta 0:00:01\n",
      "     -------------------------------------- 57.6/57.6 kB 232.1 kB/s eta 0:00:00\n",
      "Requirement already satisfied: colorama in c:\\users\\ravinder kumar\\appdata\\local\\programs\\python\\python312\\lib\\site-packages (from click->nltk) (0.4.6)\n",
      "Downloading nltk-3.8.1-py3-none-any.whl (1.5 MB)\n",
      "   ---------------------------------------- 0.0/1.5 MB ? eta -:--:--\n",
      "    --------------------------------------- 0.0/1.5 MB ? eta -:--:--\n",
      "   -- ------------------------------------- 0.1/1.5 MB 1.7 MB/s eta 0:00:01\n",
      "   ---- ----------------------------------- 0.2/1.5 MB 1.4 MB/s eta 0:00:01\n",
      "   ------ --------------------------------- 0.2/1.5 MB 1.5 MB/s eta 0:00:01\n",
      "   -------- ------------------------------- 0.3/1.5 MB 1.7 MB/s eta 0:00:01\n",
      "   ---------- ----------------------------- 0.4/1.5 MB 1.6 MB/s eta 0:00:01\n",
      "   ------------- -------------------------- 0.5/1.5 MB 1.7 MB/s eta 0:00:01\n",
      "   ------------- -------------------------- 0.5/1.5 MB 1.6 MB/s eta 0:00:01\n",
      "   ------------- -------------------------- 0.5/1.5 MB 1.6 MB/s eta 0:00:01\n",
      "   ----------------- ---------------------- 0.6/1.5 MB 1.4 MB/s eta 0:00:01\n",
      "   ----------------- ---------------------- 0.7/1.5 MB 1.4 MB/s eta 0:00:01\n",
      "   ------------------ --------------------- 0.7/1.5 MB 1.3 MB/s eta 0:00:01\n",
      "   --------------------- ------------------ 0.8/1.5 MB 1.4 MB/s eta 0:00:01\n",
      "   ---------------------- ----------------- 0.9/1.5 MB 1.4 MB/s eta 0:00:01\n",
      "   ------------------------ --------------- 0.9/1.5 MB 1.4 MB/s eta 0:00:01\n",
      "   ---------------------------- ----------- 1.1/1.5 MB 1.5 MB/s eta 0:00:01\n",
      "   ------------------------------ --------- 1.1/1.5 MB 1.5 MB/s eta 0:00:01\n",
      "   ------------------------------- -------- 1.2/1.5 MB 1.5 MB/s eta 0:00:01\n",
      "   ---------------------------------- ----- 1.3/1.5 MB 1.6 MB/s eta 0:00:01\n",
      "   ------------------------------------ --- 1.4/1.5 MB 1.6 MB/s eta 0:00:01\n",
      "   ---------------------------------------  1.5/1.5 MB 1.6 MB/s eta 0:00:01\n",
      "   ---------------------------------------- 1.5/1.5 MB 1.5 MB/s eta 0:00:00\n",
      "Downloading regex-2023.12.25-cp312-cp312-win_amd64.whl (268 kB)\n",
      "   ---------------------------------------- 0.0/268.9 kB ? eta -:--:--\n",
      "   ------ --------------------------------- 41.0/268.9 kB 1.9 MB/s eta 0:00:01\n",
      "   -------- ------------------------------ 61.4/268.9 kB 825.8 kB/s eta 0:00:01\n",
      "   ------------------------------ --------- 204.8/268.9 kB 1.8 MB/s eta 0:00:01\n",
      "   ---------------------------------------  266.2/268.9 kB 1.6 MB/s eta 0:00:01\n",
      "   ---------------------------------------- 268.9/268.9 kB 1.4 MB/s eta 0:00:00\n",
      "Downloading tqdm-4.66.2-py3-none-any.whl (78 kB)\n",
      "   ---------------------------------------- 0.0/78.3 kB ? eta -:--:--\n",
      "   -------------------- ------------------- 41.0/78.3 kB 2.0 MB/s eta 0:00:01\n",
      "   ---------------------------------------- 78.3/78.3 kB 1.1 MB/s eta 0:00:00\n",
      "Installing collected packages: tqdm, regex, nltk\n",
      "Successfully installed nltk-3.8.1 regex-2023.12.25 tqdm-4.66.2\n"
     ]
    }
   ],
   "source": [
    "!pip install nltk"
   ]
  },
  {
   "cell_type": "code",
   "execution_count": 2,
   "id": "1b75038e-72e8-4b7f-bfdf-0d4dcccdabfa",
   "metadata": {},
   "outputs": [],
   "source": [
    "from nltk.tokenize import word_tokenize, sent_tokenize"
   ]
  },
  {
   "cell_type": "code",
   "execution_count": 3,
   "id": "62ad0c92-27dd-498e-9beb-f4fd5843f3d2",
   "metadata": {},
   "outputs": [],
   "source": [
    "var= \"NLTK is intended to support research and teaching in NLP or closely related areas, including empirical linguistics, cognitive science, artificial intelligence, information retrieval, and machine learning.[8] NLTK has been used successfully as a teaching tool, as an individual study tool, and as a platform for prototyping and building research systems. There are 32 universities in the US and 25 countries using NLTK in their courses.\""
   ]
  },
  {
   "cell_type": "code",
   "execution_count": 4,
   "id": "3396f9f3-a83e-425b-a4ba-4dc5b871e6d1",
   "metadata": {},
   "outputs": [
    {
     "data": {
      "text/plain": [
       "'NLTK is intended to support research and teaching in NLP or closely related areas, including empirical linguistics, cognitive science, artificial intelligence, information retrieval, and machine learning.[8] NLTK has been used successfully as a teaching tool, as an individual study tool, and as a platform for prototyping and building research systems. There are 32 universities in the US and 25 countries using NLTK in their courses.'"
      ]
     },
     "execution_count": 4,
     "metadata": {},
     "output_type": "execute_result"
    }
   ],
   "source": [
    "var"
   ]
  },
  {
   "cell_type": "code",
   "execution_count": 5,
   "id": "f1be6ce1-8d13-47c8-8055-70bd7fd4ad54",
   "metadata": {},
   "outputs": [],
   "source": [
    "sent = sent_tokenize(var)"
   ]
  },
  {
   "cell_type": "code",
   "execution_count": 6,
   "id": "a8314217-6d46-49f2-85aa-6d939af4e272",
   "metadata": {},
   "outputs": [
    {
     "data": {
      "text/plain": [
       "['NLTK is intended to support research and teaching in NLP or closely related areas, including empirical linguistics, cognitive science, artificial intelligence, information retrieval, and machine learning.',\n",
       " '[8] NLTK has been used successfully as a teaching tool, as an individual study tool, and as a platform for prototyping and building research systems.',\n",
       " 'There are 32 universities in the US and 25 countries using NLTK in their courses.']"
      ]
     },
     "execution_count": 6,
     "metadata": {},
     "output_type": "execute_result"
    }
   ],
   "source": [
    "sent"
   ]
  },
  {
   "cell_type": "code",
   "execution_count": 10,
   "id": "4ca3d33e-ad97-4e8d-8251-e9ec98b0a2a4",
   "metadata": {},
   "outputs": [
    {
     "name": "stdout",
     "output_type": "stream",
     "text": [
      "NLTK is intended to support research and teaching in NLP or closely related areas, including empirical linguistics, cognitive science, artificial intelligence, information retrieval, and machine learning.\n",
      "\n",
      "[8] NLTK has been used successfully as a teaching tool, as an individual study tool, and as a platform for prototyping and building research systems.\n",
      "\n",
      "There are 32 universities in the US and 25 countries using NLTK in their courses.\n",
      "\n"
     ]
    }
   ],
   "source": [
    "for i in sent :\n",
    "    print(i)\n",
    "    print()\n",
    "    "
   ]
  },
  {
   "cell_type": "code",
   "execution_count": 11,
   "id": "eb8541a0-7977-42d3-a44c-9fbcd88472c2",
   "metadata": {},
   "outputs": [],
   "source": [
    "word= word_tokenize(var)"
   ]
  },
  {
   "cell_type": "code",
   "execution_count": 12,
   "id": "9a46d7f3-3da5-4ca1-b47d-8f672f395d20",
   "metadata": {},
   "outputs": [
    {
     "data": {
      "text/plain": [
       "['NLTK',\n",
       " 'is',\n",
       " 'intended',\n",
       " 'to',\n",
       " 'support',\n",
       " 'research',\n",
       " 'and',\n",
       " 'teaching',\n",
       " 'in',\n",
       " 'NLP',\n",
       " 'or',\n",
       " 'closely',\n",
       " 'related',\n",
       " 'areas',\n",
       " ',',\n",
       " 'including',\n",
       " 'empirical',\n",
       " 'linguistics',\n",
       " ',',\n",
       " 'cognitive',\n",
       " 'science',\n",
       " ',',\n",
       " 'artificial',\n",
       " 'intelligence',\n",
       " ',',\n",
       " 'information',\n",
       " 'retrieval',\n",
       " ',',\n",
       " 'and',\n",
       " 'machine',\n",
       " 'learning',\n",
       " '.',\n",
       " '[',\n",
       " '8',\n",
       " ']',\n",
       " 'NLTK',\n",
       " 'has',\n",
       " 'been',\n",
       " 'used',\n",
       " 'successfully',\n",
       " 'as',\n",
       " 'a',\n",
       " 'teaching',\n",
       " 'tool',\n",
       " ',',\n",
       " 'as',\n",
       " 'an',\n",
       " 'individual',\n",
       " 'study',\n",
       " 'tool',\n",
       " ',',\n",
       " 'and',\n",
       " 'as',\n",
       " 'a',\n",
       " 'platform',\n",
       " 'for',\n",
       " 'prototyping',\n",
       " 'and',\n",
       " 'building',\n",
       " 'research',\n",
       " 'systems',\n",
       " '.',\n",
       " 'There',\n",
       " 'are',\n",
       " '32',\n",
       " 'universities',\n",
       " 'in',\n",
       " 'the',\n",
       " 'US',\n",
       " 'and',\n",
       " '25',\n",
       " 'countries',\n",
       " 'using',\n",
       " 'NLTK',\n",
       " 'in',\n",
       " 'their',\n",
       " 'courses',\n",
       " '.']"
      ]
     },
     "execution_count": 12,
     "metadata": {},
     "output_type": "execute_result"
    }
   ],
   "source": [
    "word"
   ]
  },
  {
   "cell_type": "code",
   "execution_count": null,
   "id": "006b4485-a31a-43ec-8be2-f97f1f0afe6d",
   "metadata": {},
   "outputs": [],
   "source": []
  },
  {
   "cell_type": "code",
   "execution_count": null,
   "id": "0aed72ad-1ba7-4989-93ab-222db6301595",
   "metadata": {},
   "outputs": [],
   "source": []
  }
 ],
 "metadata": {
  "kernelspec": {
   "display_name": "Python 3 (ipykernel)",
   "language": "python",
   "name": "python3"
  },
  "language_info": {
   "codemirror_mode": {
    "name": "ipython",
    "version": 3
   },
   "file_extension": ".py",
   "mimetype": "text/x-python",
   "name": "python",
   "nbconvert_exporter": "python",
   "pygments_lexer": "ipython3",
   "version": "3.12.1"
  }
 },
 "nbformat": 4,
 "nbformat_minor": 5
}
