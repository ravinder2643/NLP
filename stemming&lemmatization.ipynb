{
 "cells": [
  {
   "cell_type": "markdown",
   "id": "66dd2181-16da-47c0-a46b-8ce254aaad8c",
   "metadata": {},
   "source": [
    "**Stemming**"
   ]
  },
  {
   "cell_type": "code",
   "execution_count": 1,
   "id": "f4d4315b-aa8a-4728-9a91-c4f3c8425cf8",
   "metadata": {},
   "outputs": [],
   "source": [
    "#technique used to extract the base form of the word by removing affixes from them\n",
    "\n",
    "# for eg:  chnaging , chnaged , change------->>>>> chnag\n",
    "#for eg: studying, studies, study-------->>>>>>>>stud\n",
    "\n",
    "\n",
    "# means onl root word ko rkta ai baaki hata deta hai"
   ]
  },
  {
   "cell_type": "markdown",
   "id": "375a47c5-b5f1-4fd2-a625-02fa77d24fa5",
   "metadata": {},
   "source": [
    "**Lemmatization**"
   ]
  },
  {
   "cell_type": "code",
   "execution_count": 4,
   "id": "6b53a85e-4b80-47b9-a0ac-f321938c44f0",
   "metadata": {},
   "outputs": [],
   "source": [
    "# Lemmatization :::: similar like steming but in a meaning fuyl way \n",
    "\n",
    "# after lemmatization , we will be getting a valid word that means samething \n",
    "\n",
    "#for eg: studying. studies, study------->>>> study"
   ]
  },
  {
   "cell_type": "code",
   "execution_count": 10,
   "id": "ae62429f-1cc6-4342-8c64-558019b0411c",
   "metadata": {},
   "outputs": [],
   "source": [
    "from nltk.stem import RegexpStemmer ,PorterStemmer,LancasterStemmer ,SnowballStemmer"
   ]
  },
  {
   "cell_type": "code",
   "execution_count": 15,
   "id": "5c53e8d2-f848-4f2b-9d1a-9bc566b8ba34",
   "metadata": {},
   "outputs": [],
   "source": [
    "l =LancasterStemmer()\n",
    "r= RegexpStemmer('ing')\n",
    "p=PorterStemmer()\n",
    "s=SnowballStemmer('english')"
   ]
  },
  {
   "cell_type": "code",
   "execution_count": 17,
   "id": "dee47708-c502-4787-80e1-488d086fafd5",
   "metadata": {},
   "outputs": [
    {
     "data": {
      "text/plain": [
       "'chang'"
      ]
     },
     "execution_count": 17,
     "metadata": {},
     "output_type": "execute_result"
    }
   ],
   "source": [
    "l.stem('changing')"
   ]
  },
  {
   "cell_type": "code",
   "execution_count": 18,
   "id": "5efc002e-ab0e-4ab8-87f4-d8a0dfc05938",
   "metadata": {},
   "outputs": [
    {
     "data": {
      "text/plain": [
       "'chang'"
      ]
     },
     "execution_count": 18,
     "metadata": {},
     "output_type": "execute_result"
    }
   ],
   "source": [
    "r.stem('changing')"
   ]
  },
  {
   "cell_type": "code",
   "execution_count": 19,
   "id": "5f9e7b54-ac3d-4360-9fd0-e4d992a69f26",
   "metadata": {},
   "outputs": [
    {
     "data": {
      "text/plain": [
       "'chang'"
      ]
     },
     "execution_count": 19,
     "metadata": {},
     "output_type": "execute_result"
    }
   ],
   "source": [
    "p.stem('changing')"
   ]
  },
  {
   "cell_type": "code",
   "execution_count": 20,
   "id": "0c5080a0-8e93-4d52-bd41-bf42f70f2b7a",
   "metadata": {},
   "outputs": [
    {
     "data": {
      "text/plain": [
       "'chang'"
      ]
     },
     "execution_count": 20,
     "metadata": {},
     "output_type": "execute_result"
    }
   ],
   "source": [
    "s.stem('changing')"
   ]
  },
  {
   "cell_type": "code",
   "execution_count": 21,
   "id": "d49bc1fc-e680-4af3-97ac-ea942f96d83f",
   "metadata": {},
   "outputs": [
    {
     "data": {
      "text/plain": [
       "'chang'"
      ]
     },
     "execution_count": 21,
     "metadata": {},
     "output_type": "execute_result"
    }
   ],
   "source": [
    "l.stem('changed')"
   ]
  },
  {
   "cell_type": "code",
   "execution_count": 23,
   "id": "5c39888b-69d1-4b9c-a8e1-a15c5a278a60",
   "metadata": {},
   "outputs": [
    {
     "data": {
      "text/plain": [
       "'changed'"
      ]
     },
     "execution_count": 23,
     "metadata": {},
     "output_type": "execute_result"
    }
   ],
   "source": [
    "#regexp stemming many atimes could not work as good\n",
    "\n",
    "r.stem('changed')"
   ]
  },
  {
   "cell_type": "code",
   "execution_count": 24,
   "id": "1b4aa459-3a98-4ad5-a559-c2dc6816fc1f",
   "metadata": {},
   "outputs": [
    {
     "data": {
      "text/plain": [
       "'chang'"
      ]
     },
     "execution_count": 24,
     "metadata": {},
     "output_type": "execute_result"
    }
   ],
   "source": [
    "s.stem('changed')"
   ]
  },
  {
   "cell_type": "code",
   "execution_count": null,
   "id": "75d9de3c-9195-453c-a081-d47a23129e28",
   "metadata": {},
   "outputs": [],
   "source": []
  },
  {
   "cell_type": "code",
   "execution_count": null,
   "id": "75ac4d42-63e6-4ec7-9243-f123409e38ab",
   "metadata": {},
   "outputs": [],
   "source": []
  },
  {
   "cell_type": "markdown",
   "id": "c728e97b-6487-498b-94a5-676c70f00ff8",
   "metadata": {},
   "source": [
    "**Lemmatization**"
   ]
  },
  {
   "cell_type": "code",
   "execution_count": 28,
   "id": "a30b5c96-3051-436f-8ede-c83201249007",
   "metadata": {},
   "outputs": [
    {
     "name": "stderr",
     "output_type": "stream",
     "text": [
      "[nltk_data] Downloading package wordnet to C:\\Users\\Ravinder\n",
      "[nltk_data]     Kumar\\AppData\\Roaming\\nltk_data...\n"
     ]
    },
    {
     "data": {
      "text/plain": [
       "True"
      ]
     },
     "execution_count": 28,
     "metadata": {},
     "output_type": "execute_result"
    }
   ],
   "source": []
  },
  {
   "cell_type": "code",
   "execution_count": 29,
   "id": "f22f6ee0-4233-4221-b8d0-5c77fe525ee5",
   "metadata": {},
   "outputs": [],
   "source": [
    "wl= WordNetLemmatizer()"
   ]
  },
  {
   "cell_type": "code",
   "execution_count": 30,
   "id": "9b60cfd4-7765-4f5c-a16c-451915b8bc7c",
   "metadata": {},
   "outputs": [
    {
     "data": {
      "text/plain": [
       "'mouse'"
      ]
     },
     "execution_count": 30,
     "metadata": {},
     "output_type": "execute_result"
    }
   ],
   "source": [
    "wl.lemmatize(\"mice\")"
   ]
  },
  {
   "cell_type": "code",
   "execution_count": 32,
   "id": "23ad3874-ec75-414b-af80-836532feca84",
   "metadata": {},
   "outputs": [
    {
     "data": {
      "text/plain": [
       "'change'"
      ]
     },
     "execution_count": 32,
     "metadata": {},
     "output_type": "execute_result"
    }
   ],
   "source": [
    "wl.lemmatize(\"changes\")"
   ]
  },
  {
   "cell_type": "code",
   "execution_count": null,
   "id": "40471d86-b7d5-4fe6-ab48-c85a1fe3611d",
   "metadata": {},
   "outputs": [],
   "source": []
  }
 ],
 "metadata": {
  "kernelspec": {
   "display_name": "Python 3 (ipykernel)",
   "language": "python",
   "name": "python3"
  },
  "language_info": {
   "codemirror_mode": {
    "name": "ipython",
    "version": 3
   },
   "file_extension": ".py",
   "mimetype": "text/x-python",
   "name": "python",
   "nbconvert_exporter": "python",
   "pygments_lexer": "ipython3",
   "version": "3.12.1"
  }
 },
 "nbformat": 4,
 "nbformat_minor": 5
}
