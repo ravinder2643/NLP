{
 "cells": [
  {
   "cell_type": "code",
   "execution_count": 14,
   "id": "bbcadd8d-a48b-41f9-9de4-3fc385836246",
   "metadata": {},
   "outputs": [],
   "source": [
    "# word sense disambigution tell us the differnce betweeen two similar sentence or statements\n",
    "# for eg : mouse is running fast------>>> talking about rat \n",
    "# mouse is working fast----->> talking about hardware device mouse "
   ]
  },
  {
   "cell_type": "code",
   "execution_count": 1,
   "id": "4e4342b5-84f9-40c7-aa49-daff4c15f351",
   "metadata": {},
   "outputs": [],
   "source": [
    "x= \"Sunrise (or sunup) is the moment when the upper rim of the Sun appears on the horizon in the morning.\""
   ]
  },
  {
   "cell_type": "code",
   "execution_count": 4,
   "id": "92f3104e-ea88-42f8-a13a-07b5fabc9250",
   "metadata": {},
   "outputs": [],
   "source": [
    "from nltk.wsd import lesk\n",
    "from nltk.tokenize import word_tokenize"
   ]
  },
  {
   "cell_type": "code",
   "execution_count": 11,
   "id": "910ee345-cabe-4b7d-b92e-7fcda386d210",
   "metadata": {},
   "outputs": [
    {
     "data": {
      "text/plain": [
       "'the star that is the source of light and heat for the planets in the solar system'"
      ]
     },
     "execution_count": 11,
     "metadata": {},
     "output_type": "execute_result"
    }
   ],
   "source": [
    "# here we wanted to know about the sun form wsd (word sentence degmentation library) \n",
    "# to know thhe position of \"sun\" in tis wsd\n",
    "l= lesk(word_tokenize(x), 'sun')\n",
    "l\n"
   ]
  },
  {
   "cell_type": "code",
   "execution_count": 12,
   "id": "911908a4-d8e1-4220-a5a0-5601ee9c3a66",
   "metadata": {},
   "outputs": [
    {
     "data": {
      "text/plain": [
       "'the star that is the source of light and heat for the planets in the solar system'"
      ]
     },
     "execution_count": 12,
     "metadata": {},
     "output_type": "execute_result"
    }
   ],
   "source": [
    "#we can also know the defination of sun in that library so for that \n",
    "l.definition()"
   ]
  },
  {
   "cell_type": "code",
   "execution_count": null,
   "id": "2b8c8df5-07cc-4e7c-bb97-82dc708619ed",
   "metadata": {},
   "outputs": [],
   "source": []
  }
 ],
 "metadata": {
  "kernelspec": {
   "display_name": "Python 3 (ipykernel)",
   "language": "python",
   "name": "python3"
  },
  "language_info": {
   "codemirror_mode": {
    "name": "ipython",
    "version": 3
   },
   "file_extension": ".py",
   "mimetype": "text/x-python",
   "name": "python",
   "nbconvert_exporter": "python",
   "pygments_lexer": "ipython3",
   "version": "3.12.1"
  }
 },
 "nbformat": 4,
 "nbformat_minor": 5
}
